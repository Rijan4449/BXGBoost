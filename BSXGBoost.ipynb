{
  "nbformat": 4,
  "nbformat_minor": 0,
  "metadata": {
    "colab": {
      "provenance": [],
      "include_colab_link": true
    },
    "kernelspec": {
      "name": "python3",
      "display_name": "Python 3"
    },
    "language_info": {
      "name": "python"
    }
  },
  "cells": [
    {
      "cell_type": "markdown",
      "metadata": {
        "id": "view-in-github",
        "colab_type": "text"
      },
      "source": [
        "<a href=\"https://colab.research.google.com/github/Rijan4449/BXGBoost/blob/main/BSXGBoost.ipynb\" target=\"_parent\"><img src=\"https://colab.research.google.com/assets/colab-badge.svg\" alt=\"Open In Colab\"/></a>"
      ]
    },
    {
      "cell_type": "code",
      "execution_count": 1,
      "metadata": {
        "id": "HRPpXguFpw56",
        "colab": {
          "base_uri": "https://localhost:8080/"
        },
        "outputId": "dee797c8-57cd-4392-e1f2-2204daaec397"
      },
      "outputs": [
        {
          "output_type": "stream",
          "name": "stdout",
          "text": [
            "Collecting category_encoders\n",
            "  Downloading category_encoders-2.8.1-py3-none-any.whl.metadata (7.9 kB)\n",
            "Requirement already satisfied: numpy>=1.14.0 in /usr/local/lib/python3.12/dist-packages (from category_encoders) (2.0.2)\n",
            "Requirement already satisfied: pandas>=1.0.5 in /usr/local/lib/python3.12/dist-packages (from category_encoders) (2.2.2)\n",
            "Requirement already satisfied: patsy>=0.5.1 in /usr/local/lib/python3.12/dist-packages (from category_encoders) (1.0.1)\n",
            "Requirement already satisfied: scikit-learn>=1.6.0 in /usr/local/lib/python3.12/dist-packages (from category_encoders) (1.6.1)\n",
            "Requirement already satisfied: scipy>=1.0.0 in /usr/local/lib/python3.12/dist-packages (from category_encoders) (1.16.1)\n",
            "Requirement already satisfied: statsmodels>=0.9.0 in /usr/local/lib/python3.12/dist-packages (from category_encoders) (0.14.5)\n",
            "Requirement already satisfied: python-dateutil>=2.8.2 in /usr/local/lib/python3.12/dist-packages (from pandas>=1.0.5->category_encoders) (2.9.0.post0)\n",
            "Requirement already satisfied: pytz>=2020.1 in /usr/local/lib/python3.12/dist-packages (from pandas>=1.0.5->category_encoders) (2025.2)\n",
            "Requirement already satisfied: tzdata>=2022.7 in /usr/local/lib/python3.12/dist-packages (from pandas>=1.0.5->category_encoders) (2025.2)\n",
            "Requirement already satisfied: joblib>=1.2.0 in /usr/local/lib/python3.12/dist-packages (from scikit-learn>=1.6.0->category_encoders) (1.5.2)\n",
            "Requirement already satisfied: threadpoolctl>=3.1.0 in /usr/local/lib/python3.12/dist-packages (from scikit-learn>=1.6.0->category_encoders) (3.6.0)\n",
            "Requirement already satisfied: packaging>=21.3 in /usr/local/lib/python3.12/dist-packages (from statsmodels>=0.9.0->category_encoders) (25.0)\n",
            "Requirement already satisfied: six>=1.5 in /usr/local/lib/python3.12/dist-packages (from python-dateutil>=2.8.2->pandas>=1.0.5->category_encoders) (1.17.0)\n",
            "Downloading category_encoders-2.8.1-py3-none-any.whl (85 kB)\n",
            "\u001b[2K   \u001b[90m━━━━━━━━━━━━━━━━━━━━━━━━━━━━━━━━━━━━━━━━\u001b[0m \u001b[32m85.7/85.7 kB\u001b[0m \u001b[31m3.5 MB/s\u001b[0m eta \u001b[36m0:00:00\u001b[0m\n",
            "\u001b[?25hInstalling collected packages: category_encoders\n",
            "Successfully installed category_encoders-2.8.1\n"
          ]
        }
      ],
      "source": [
        "!pip install category_encoders"
      ]
    },
    {
      "cell_type": "code",
      "source": [
        "import pandas as pd\n",
        "import numpy as np\n",
        "import time\n",
        "from collections import Counter\n",
        "import matplotlib.pyplot as plt\n",
        "\n",
        "from sklearn.model_selection import KFold\n",
        "from sklearn.preprocessing import OneHotEncoder, StandardScaler, LabelEncoder\n",
        "from sklearn.impute import SimpleImputer\n",
        "from sklearn.compose import ColumnTransformer\n",
        "from sklearn.pipeline import Pipeline\n",
        "from sklearn.metrics import (\n",
        "    accuracy_score, precision_score, recall_score, f1_score,\n",
        "    roc_auc_score, log_loss, confusion_matrix, ConfusionMatrixDisplay\n",
        ")\n",
        "from imblearn.over_sampling import SMOTE\n",
        "from imblearn.pipeline import Pipeline as ImbPipeline\n",
        "import category_encoders as ce\n",
        "from xgboost import XGBClassifier"
      ],
      "metadata": {
        "id": "CKWgOThjSKPl"
      },
      "execution_count": 2,
      "outputs": []
    },
    {
      "cell_type": "code",
      "source": [
        "from google.colab import drive\n",
        "drive.mount('/content/drive')"
      ],
      "metadata": {
        "colab": {
          "base_uri": "https://localhost:8080/"
        },
        "id": "GUXR9Tbxbovc",
        "outputId": "f85b1e39-c1ed-41f5-f665-4bf1836ca5e5"
      },
      "execution_count": 3,
      "outputs": [
        {
          "output_type": "stream",
          "name": "stdout",
          "text": [
            "Mounted at /content/drive\n"
          ]
        }
      ]
    },
    {
      "cell_type": "code",
      "source": [
        "df = pd.read_csv(\"/content/drive/My Drive/Colab Notebooks/super_dataset.csv\")\n",
        "ph_path = \"/content/drive/My Drive/Colab Notebooks/ph_waters.txt\"\n",
        "\n",
        "with open(ph_path, \"r\", encoding=\"utf-8\") as f:\n",
        "    ph_waters = {line.strip() for line in f if line.strip()}\n"
      ],
      "metadata": {
        "id": "jn1d0N4y6Vww"
      },
      "execution_count": 4,
      "outputs": []
    },
    {
      "cell_type": "code",
      "source": [
        "# -----------------------\n",
        "# 1. Load dataset\n",
        "# -----------------------\n",
        "\n",
        "# Load dataset\n",
        "df = pd.read_csv(\"/content/drive/My Drive/Colab Notebooks/super_dataset.csv\")\n",
        "\n",
        "# PH waters (for test split)\n",
        "with open(\"/content/drive/My Drive/Colab Notebooks/ph_waters.txt\", \"r\", encoding=\"utf-8\") as f:\n",
        "    ph_waters = {line.strip() for line in f if line.strip()}\n",
        "\n",
        "ph_test = df[df[\"waterbody_name\"].isin(ph_waters)]\n",
        "non_ph = df[~df[\"waterbody_name\"].isin(ph_waters)]\n",
        "test_size = int(0.2 * len(df))\n",
        "\n",
        "if len(ph_test) < test_size:\n",
        "    additional_needed = test_size - len(ph_test)\n",
        "    extra_non_ph = non_ph.sample(n=additional_needed, random_state=42)\n",
        "    test_set = pd.concat([ph_test, extra_non_ph])\n",
        "    train_set = df.drop(test_set.index)\n",
        "else:\n",
        "    test_set = ph_test\n",
        "    train_set = non_ph\n"
      ],
      "metadata": {
        "id": "qmTl3g-Ge5iv"
      },
      "execution_count": 5,
      "outputs": []
    },
    {
      "cell_type": "code",
      "source": [
        "# -----------------------\n",
        "# 2. Define bins and labels for risk classes\n",
        "# -----------------------\n",
        "bins = [0, 0.33, 0.66, 1.0]\n",
        "labels = ['Low', 'Medium', 'High']\n",
        "\n",
        "train_set['risk_class'] = pd.cut(train_set['invasion_risk_score'], bins=bins, labels=labels, include_lowest=True)\n",
        "test_set['risk_class']  = pd.cut(test_set['invasion_risk_score'], bins=bins, labels=labels, include_lowest=True)\n",
        "\n",
        "# Encode labels\n",
        "le = LabelEncoder()\n",
        "train_set['risk_class_enc'] = le.fit_transform(train_set['risk_class'])\n",
        "test_set['risk_class_enc']  = le.transform(test_set['risk_class'])"
      ],
      "metadata": {
        "id": "6bGbNvk9p_v6"
      },
      "execution_count": 6,
      "outputs": []
    },
    {
      "cell_type": "code",
      "source": [
        "# -----------------------\n",
        "# 3. Preprocessor setup\n",
        "# -----------------------\n",
        "drop_cols = ['fish_id', 'common_name', 'status']\n",
        "high_cardinality = ['species', 'waterbody_name']\n",
        "low_cardinality = ['kingdom', 'phylum', 'class', 'order', 'family', 'genus', 'feeding_type']\n",
        "numeric_cols = [\n",
        "    'temp_max', 'weight_max', 'length_max',\n",
        "    'temp_pref_min', 'temp_pref_max',\n",
        "    'temp_range_min', 'temp_range_max',\n",
        "    'trophic_lvl_estimate_min', 'trophic_lvl_estimate_max', 'trophic_lvl',\n",
        "    'fecundity_mean', 'fecundity_min', 'fecundity_max',\n",
        "    'wb_ph_min', 'wb_ph_max',\n",
        "    'wb_salinity_min', 'wb_salinity_max',\n",
        "    'wb_do_min', 'wb_do_max',\n",
        "    'wb_bod_min', 'wb_bod_max',\n",
        "    'wb_turbidity_min', 'wb_turbidity_max',\n",
        "    'wb_temp_min', 'wb_temp_max'\n",
        "]\n",
        "\n",
        "numeric_transformer = Pipeline([\n",
        "    ('imputer', SimpleImputer(strategy='median'))\n",
        "])\n",
        "\n",
        "low_card_transformer = Pipeline([\n",
        "    ('imputer', SimpleImputer(strategy='most_frequent')),\n",
        "    ('onehot', OneHotEncoder(handle_unknown='ignore', sparse_output=False))\n",
        "])\n",
        "\n",
        "high_card_transformer = Pipeline([\n",
        "    ('imputer', SimpleImputer(strategy='most_frequent')),\n",
        "    ('target', ce.TargetEncoder())\n",
        "])\n",
        "\n",
        "preprocessor = ColumnTransformer([\n",
        "    ('num', numeric_transformer, numeric_cols),\n",
        "    ('low_cat', low_card_transformer, low_cardinality),\n",
        "    ('high_cat', high_card_transformer, high_cardinality)\n",
        "], remainder='drop')"
      ],
      "metadata": {
        "id": "NGvj3z6C6a7g"
      },
      "execution_count": 7,
      "outputs": []
    },
    {
      "cell_type": "code",
      "source": [
        "start_time = time.time()"
      ],
      "metadata": {
        "id": "HfMrFveql-Kt"
      },
      "execution_count": 8,
      "outputs": []
    },
    {
      "cell_type": "code",
      "source": [
        "# -----------------------\n",
        "# 4. Pipeline with SMOTE + XGB\n",
        "# -----------------------\n",
        "pipeline = ImbPipeline(steps=[\n",
        "    ('preprocessor', preprocessor),\n",
        "    ('scaler', StandardScaler(with_mean=False)),  # for sparse\n",
        "    ('smote', SMOTE(random_state=42, k_neighbors=5)),\n",
        "    ('model', XGBClassifier(\n",
        "        eval_metric='mlogloss',  # no use_label_encoder\n",
        "        n_estimators=100,\n",
        "        learning_rate=0.05,\n",
        "        max_depth=5,\n",
        "        subsample=0.8,\n",
        "        colsample_bytree=0.8,\n",
        "        gamma=0.1,\n",
        "        reg_lambda=1,\n",
        "        random_state=42\n",
        "    ))\n",
        "])"
      ],
      "metadata": {
        "id": "rex_WXjyh0qA"
      },
      "execution_count": 9,
      "outputs": []
    },
    {
      "cell_type": "code",
      "source": [
        "# ===========================\n",
        "# 5. KFold CV\n",
        "# ===========================\n",
        "kf = KFold(n_splits=5, shuffle=True, random_state=42)\n",
        "\n",
        "cv_results = {m: [] for m in [\"accuracy\", \"precision\", \"recall\", \"f1\", \"roc_auc\", \"logloss\", \"train_accuracy\"]}\n",
        "all_y_true, all_y_pred, all_y_probs = [], [], []\n",
        "\n",
        "for fold, (train_idx, val_idx) in enumerate(kf.split(train_set), 1):\n",
        "    X_tr = train_set.iloc[train_idx].drop(columns=drop_cols + ['risk_class', 'risk_class_enc'])\n",
        "    X_val = train_set.iloc[val_idx].drop(columns=drop_cols + ['risk_class', 'risk_class_enc'])\n",
        "    y_tr, y_val = train_set['risk_class_enc'].iloc[train_idx], train_set['risk_class_enc'].iloc[val_idx]\n",
        "\n",
        "    print(f\"\\nFOLD {fold} | Before SMOTE: {Counter(y_tr)}\")\n",
        "\n",
        "    # Optional: check SMOTE manually\n",
        "    X_tr_processed = preprocessor.fit_transform(X_tr, y_tr)\n",
        "    sm = SMOTE(random_state=42)\n",
        "    X_res, y_res = sm.fit_resample(X_tr_processed, y_tr)\n",
        "    print(\"After SMOTE: \", Counter(y_res))\n",
        "\n",
        "    # Fit pipeline\n",
        "    pipeline.fit(X_tr, y_tr)\n",
        "    y_pred_val = pipeline.predict(X_val)\n",
        "    y_pred_tr = pipeline.predict(X_tr)\n",
        "    y_val_probs = pipeline.predict_proba(X_val)\n",
        "\n",
        "    # Store OOF predictions\n",
        "    all_y_true.extend(y_val)\n",
        "    all_y_pred.extend(y_pred_val)\n",
        "    all_y_probs.extend(y_val_probs)\n",
        "\n",
        "    # Metrics\n",
        "    cv_results[\"accuracy\"].append(accuracy_score(y_val, y_pred_val))\n",
        "    cv_results[\"precision\"].append(precision_score(y_val, y_pred_val, average=\"weighted\", zero_division=0))\n",
        "    cv_results[\"recall\"].append(recall_score(y_val, y_pred_val, average=\"weighted\"))\n",
        "    cv_results[\"f1\"].append(f1_score(y_val, y_pred_val, average=\"weighted\"))\n",
        "    cv_results[\"roc_auc\"].append(roc_auc_score(pd.get_dummies(y_val), y_val_probs, multi_class=\"ovr\"))\n",
        "    cv_results[\"logloss\"].append(log_loss(y_val, y_val_probs))\n",
        "    cv_results[\"train_accuracy\"].append(accuracy_score(y_tr, y_pred_tr))\n",
        "\n",
        "end_time = time.time()"
      ],
      "metadata": {
        "id": "zxAGSGVahzlY",
        "colab": {
          "base_uri": "https://localhost:8080/"
        },
        "outputId": "15528ae9-e5f6-43bb-bb64-673886889825"
      },
      "execution_count": 10,
      "outputs": [
        {
          "output_type": "stream",
          "name": "stdout",
          "text": [
            "\n",
            "FOLD 1 | Before SMOTE: Counter({0: 1785, 1: 1481, 2: 307})\n",
            "After SMOTE:  Counter({0: 1785, 1: 1785, 2: 1785})\n",
            "\n",
            "FOLD 2 | Before SMOTE: Counter({0: 1796, 1: 1467, 2: 310})\n",
            "After SMOTE:  Counter({0: 1796, 1: 1796, 2: 1796})\n",
            "\n",
            "FOLD 3 | Before SMOTE: Counter({0: 1799, 1: 1478, 2: 297})\n",
            "After SMOTE:  Counter({0: 1799, 1: 1799, 2: 1799})\n",
            "\n",
            "FOLD 4 | Before SMOTE: Counter({0: 1797, 1: 1466, 2: 311})\n",
            "After SMOTE:  Counter({0: 1797, 2: 1797, 1: 1797})\n",
            "\n",
            "FOLD 5 | Before SMOTE: Counter({0: 1791, 1: 1468, 2: 315})\n",
            "After SMOTE:  Counter({0: 1791, 1: 1791, 2: 1791})\n"
          ]
        }
      ]
    },
    {
      "cell_type": "code",
      "source": [
        "# ===========================\n",
        "# 6. Results\n",
        "# ===========================\n",
        "metrics = [\"accuracy\", \"precision\", \"recall\", \"f1\", \"roc_auc\", \"logloss\"]\n",
        "for metric in metrics:\n",
        "    print(f\"\\n{metric.upper()}:\")\n",
        "    for i, score in enumerate(cv_results[metric], 1):\n",
        "        print(f\"Fold-{i}: {score:.4f}\")\n",
        "    print(f\"Mean {metric.upper()}: {np.nanmean(cv_results[metric]):.4f}\")\n",
        "\n",
        "gen_gap = np.array(cv_results[\"train_accuracy\"]) - np.array(cv_results[\"accuracy\"])\n",
        "print(\"\\nGENERALIZATION GAP per fold:\")\n",
        "for i, gap in enumerate(gen_gap, 1):\n",
        "    print(f\"Fold-{i}: {gap:.4f}\")\n",
        "print(f\"Mean Generalization Gap: {np.mean(gen_gap):.4f}\")\n",
        "\n",
        "from sklearn.metrics import roc_auc_score\n",
        "overall_roc_auc = roc_auc_score(pd.get_dummies(all_y_true), np.array(all_y_probs), multi_class=\"ovr\")\n",
        "overall_logloss = log_loss(pd.get_dummies(all_y_true), np.array(all_y_probs))\n",
        "print(f\"\\nOVERALL ROC-AUC: {overall_roc_auc:.4f}\")\n",
        "print(f\"OVERALL LOGLOSS: {overall_logloss:.4f}\")"
      ],
      "metadata": {
        "id": "26efSG1sGRtj",
        "colab": {
          "base_uri": "https://localhost:8080/"
        },
        "outputId": "b5dd6ca0-be7f-4857-e0f3-190e5d6201e0"
      },
      "execution_count": 11,
      "outputs": [
        {
          "output_type": "stream",
          "name": "stdout",
          "text": [
            "\n",
            "ACCURACY:\n",
            "Fold-1: 0.8076\n",
            "Fold-2: 0.8087\n",
            "Fold-3: 0.7928\n",
            "Fold-4: 0.8320\n",
            "Fold-5: 0.8231\n",
            "Mean ACCURACY: 0.8129\n",
            "\n",
            "PRECISION:\n",
            "Fold-1: 0.8226\n",
            "Fold-2: 0.8216\n",
            "Fold-3: 0.8328\n",
            "Fold-4: 0.8370\n",
            "Fold-5: 0.8270\n",
            "Mean PRECISION: 0.8282\n",
            "\n",
            "RECALL:\n",
            "Fold-1: 0.8076\n",
            "Fold-2: 0.8087\n",
            "Fold-3: 0.7928\n",
            "Fold-4: 0.8320\n",
            "Fold-5: 0.8231\n",
            "Mean RECALL: 0.8129\n",
            "\n",
            "F1:\n",
            "Fold-1: 0.7915\n",
            "Fold-2: 0.7941\n",
            "Fold-3: 0.7719\n",
            "Fold-4: 0.8114\n",
            "Fold-5: 0.8120\n",
            "Mean F1: 0.7962\n",
            "\n",
            "ROC_AUC:\n",
            "Fold-1: 0.9362\n",
            "Fold-2: 0.9441\n",
            "Fold-3: 0.9352\n",
            "Fold-4: 0.9423\n",
            "Fold-5: 0.9355\n",
            "Mean ROC_AUC: 0.9387\n",
            "\n",
            "LOGLOSS:\n",
            "Fold-1: 0.6039\n",
            "Fold-2: 0.6471\n",
            "Fold-3: 0.6671\n",
            "Fold-4: 0.5659\n",
            "Fold-5: 0.5639\n",
            "Mean LOGLOSS: 0.6096\n",
            "\n",
            "GENERALIZATION GAP per fold:\n",
            "Fold-1: 0.1916\n",
            "Fold-2: 0.1904\n",
            "Fold-3: 0.2066\n",
            "Fold-4: 0.1671\n",
            "Fold-5: 0.1761\n",
            "Mean Generalization Gap: 0.1864\n",
            "\n",
            "OVERALL ROC-AUC: 0.9368\n",
            "OVERALL LOGLOSS: 0.6096\n"
          ]
        }
      ]
    },
    {
      "cell_type": "code",
      "source": [
        "# -----------------------\n",
        "# Experiment 2: Tuning statistics\n",
        "# -----------------------\n",
        "total_time = end_time - start_time\n",
        "num_iterations = kf.get_n_splits()\n",
        "time_per_iteration = total_time / num_iterations\n",
        "\n",
        "# Convert CV results to array (handles dict or list)\n",
        "val_scores = np.array(cv_results[\"accuracy\"])  # or replace with \"f1\", etc.\n",
        "variance = np.var(val_scores, ddof=1)  # sample variance (unbiased)\n",
        "\n",
        "print(\"\\nEXPERIMENT 2 - TUNING STATISTICS\")\n",
        "print(f\"Total tuning time: {total_time:.2f} seconds ({total_time/60:.2f} minutes)\")\n",
        "print(f\"Number of iterations/folds: {num_iterations}\")\n",
        "print(f\"Time per iteration: {time_per_iteration:.2f} seconds\")\n",
        "print(f\"Validation score mean: {np.mean(val_scores):.4f}\")\n",
        "print(f\"Validation score variance: {variance:.6f}\")\n"
      ],
      "metadata": {
        "id": "2gWCcO4c80i7",
        "colab": {
          "base_uri": "https://localhost:8080/"
        },
        "outputId": "096ab280-9588-49a9-a96c-454827bc838e"
      },
      "execution_count": 12,
      "outputs": [
        {
          "output_type": "stream",
          "name": "stdout",
          "text": [
            "\n",
            "EXPERIMENT 2 - TUNING STATISTICS\n",
            "Total tuning time: 84.45 seconds (1.41 minutes)\n",
            "Number of iterations/folds: 5\n",
            "Time per iteration: 16.89 seconds\n",
            "Validation score mean: 0.8129\n",
            "Validation score variance: 0.000229\n"
          ]
        }
      ]
    },
    {
      "cell_type": "code",
      "source": [
        "# Compute confusion matrix\n",
        "cm = confusion_matrix(all_y_true, all_y_pred)\n",
        "\n",
        "# Display it\n",
        "disp = ConfusionMatrixDisplay(confusion_matrix=cm, display_labels=le.classes_)\n",
        "disp.plot(cmap=plt.cm.Blues)  # optional: choose color map\n",
        "plt.title(\"Overall Confusion Matrix\")\n",
        "plt.show()\n"
      ],
      "metadata": {
        "id": "c9fHgUbT9F-H",
        "colab": {
          "base_uri": "https://localhost:8080/",
          "height": 472
        },
        "outputId": "37aa1b16-4212-4cd4-a380-5b5da4b9da1d"
      },
      "execution_count": 13,
      "outputs": [
        {
          "output_type": "display_data",
          "data": {
            "text/plain": [
              "<Figure size 640x480 with 2 Axes>"
            ],
            "image/png": "[encoded data removed]"
          },
          "metadata": {}
        }
      ]
    },
    {
      "cell_type": "code",
      "source": [
        "from collections import Counter\n",
        "\n",
        "# Count before SMOTE\n",
        "before_counts = Counter(y_tr)\n",
        "\n",
        "# Fit pipeline (SMOTE happens inside)\n",
        "pipeline.fit(X_tr, y_tr)\n",
        "\n",
        "# Extract balanced counts from SMOTE step\n",
        "X_res, y_res = pipeline.named_steps['smote'].fit_resample(\n",
        "    pipeline.named_steps['preprocessor'].transform(X_tr), y_tr\n",
        ")\n",
        "after_counts = Counter(y_res)\n",
        "\n",
        "# Plot class distribution before vs after\n",
        "plt.figure(figsize=(6,4))\n",
        "plt.bar(before_counts.keys(), before_counts.values(), alpha=0.6, label=\"Before SMOTE\")\n",
        "plt.bar(after_counts.keys(), after_counts.values(), alpha=0.6, label=\"After SMOTE\")\n",
        "plt.xticks([0,1,2], le.classes_)\n",
        "plt.title(f\"Class Distribution Fold {fold}\")\n",
        "plt.legend()\n",
        "plt.show()\n"
      ],
      "metadata": {
        "id": "EcJpg4ne_i_C",
        "colab": {
          "base_uri": "https://localhost:8080/",
          "height": 391
        },
        "outputId": "da818e1b-9146-463c-927a-5a8caa6af2cd"
      },
      "execution_count": 14,
      "outputs": [
        {
          "output_type": "display_data",
          "data": {
            "text/plain": [
              "<Figure size 600x400 with 1 Axes>"
            ],
            "image/png": "[encoded data removed]"
          },
          "metadata": {}
        }
      ]
    },
    {
      "cell_type": "code",
      "source": [
        "import joblib\n",
        "\n",
        "# Save the trained model\n",
        "joblib.dump(xgb_model, \"/content/drive/My Drive/Colab Notebooks/xgb_manual_invasion_model_9_18.pkl\")\n",
        "\n",
        "# Later, load it back\n",
        "xgb_loaded = joblib.load(\"/content/drive/My Drive/Colab Notebooks/xgb_manual_invasion_model_9_18.pkl\")"
      ],
      "metadata": {
        "id": "uOthtz_USF9W"
      },
      "execution_count": null,
      "outputs": []
    }
  ]
}